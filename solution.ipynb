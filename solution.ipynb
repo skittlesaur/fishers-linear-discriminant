{
 "cells": [
  {
   "cell_type": "code",
   "execution_count": 110,
   "metadata": {
    "collapsed": true
   },
   "outputs": [],
   "source": [
    "import numpy as np\n",
    "from PIL import Image\n",
    "from sklearn import metrics\n",
    "import matplotlib.pyplot as plt"
   ]
  },
  {
   "cell_type": "markdown",
   "source": [
    "# Read Data"
   ],
   "metadata": {
    "collapsed": false
   }
  },
  {
   "cell_type": "markdown",
   "source": [
    "### Train Data"
   ],
   "metadata": {
    "collapsed": false
   }
  },
  {
   "cell_type": "markdown",
   "source": [
    "Read the images from the Train folder and convert it to a numpy 1D array"
   ],
   "metadata": {
    "collapsed": false
   }
  },
  {
   "cell_type": "code",
   "execution_count": 111,
   "outputs": [],
   "source": [
    "def read_train_images():\n",
    "    images = []\n",
    "    for i in range(2400):\n",
    "        img = Image.open('./Train/' + str(i + 1) + '.jpg')\n",
    "        img = np.array(img).flatten()\n",
    "        images.append(img)\n",
    "    return images"
   ],
   "metadata": {
    "collapsed": false
   }
  },
  {
   "cell_type": "markdown",
   "source": [
    "Read the train labels from the Train folder"
   ],
   "metadata": {
    "collapsed": false
   }
  },
  {
   "cell_type": "code",
   "execution_count": 112,
   "outputs": [],
   "source": [
    "def read_train_labels():\n",
    "    labels = []\n",
    "    with open('./Train/Training Labels.txt') as f:\n",
    "        for line in f:\n",
    "            labels.append(int(line))\n",
    "    return labels"
   ],
   "metadata": {
    "collapsed": false
   }
  },
  {
   "cell_type": "markdown",
   "source": [
    "### Test Data"
   ],
   "metadata": {
    "collapsed": false
   }
  },
  {
   "cell_type": "markdown",
   "source": [
    "Read the images from the Test folder and convert it to a numpy 1D array"
   ],
   "metadata": {
    "collapsed": false
   }
  },
  {
   "cell_type": "code",
   "execution_count": 113,
   "outputs": [],
   "source": [
    "def read_test_images():\n",
    "    images = []\n",
    "    for i in range(200):\n",
    "        img = Image.open('./Test/' + str(i + 1) + '.jpg')\n",
    "        img = np.array(img).flatten()\n",
    "        images.append(img)\n",
    "    return images"
   ],
   "metadata": {
    "collapsed": false
   }
  },
  {
   "cell_type": "markdown",
   "source": [
    "Read the train labels from the Test folder"
   ],
   "metadata": {
    "collapsed": false
   }
  },
  {
   "cell_type": "code",
   "execution_count": 114,
   "outputs": [],
   "source": [
    "def read_test_labels():\n",
    "    labels = []\n",
    "    with open('./Test/Test Labels.txt') as f:\n",
    "        for line in f:\n",
    "            labels.append(int(line))\n",
    "    return labels"
   ],
   "metadata": {
    "collapsed": false
   }
  },
  {
   "cell_type": "markdown",
   "source": [
    "# Compute"
   ],
   "metadata": {
    "collapsed": false
   }
  },
  {
   "cell_type": "markdown",
   "source": [
    "## Mean\n",
    "\n",
    "The function calculates the mean of each `image` in images, grouped by its corresponding `label` in labels.\n",
    "\n",
    "The initialized array `mean` of size (10, 784) corresponds to number of classes (10), and number of features of each image (28*28).\n",
    "\n",
    "$$m_i = \\frac{\\sum_{j=1}^{n} x_j}{n}$$"
   ],
   "metadata": {
    "collapsed": false
   }
  },
  {
   "cell_type": "code",
   "execution_count": 115,
   "outputs": [],
   "source": [
    "def compute_mean(images, labels):\n",
    "    mean = np.zeros((10, 784))\n",
    "    for i in range(10):\n",
    "        mean[i] = np.mean(np.array(images)[np.array(labels) == i], axis=0)\n",
    "    return mean"
   ],
   "metadata": {
    "collapsed": false
   }
  },
  {
   "cell_type": "markdown",
   "source": [
    "## Compute $S_i$ and $S_w$\n",
    "\n",
    "A function that takes in three arguments: a list of train images, a list of train labels, and an array of means. The function calculates the *scatter matrix* of the images, grouped by their corresponding labels.\n",
    "\n",
    "$$S_i = \\sum_{j=1}^{n} (x_j - m_i)(x_j - m_i)^T$$"
   ],
   "metadata": {
    "collapsed": false
   }
  },
  {
   "cell_type": "code",
   "execution_count": 116,
   "outputs": [],
   "source": [
    "def compute_S(images, labels, mean):\n",
    "    S = np.zeros((10, 784, 784))\n",
    "    for i in range(10):\n",
    "        for j in range(len(images)):\n",
    "            if labels[j] == i:\n",
    "                S[i] += np.dot((images[j] - mean[i]).reshape(784, 1), (images[j] - mean[i]).reshape(1, 784))\n",
    "    return S"
   ],
   "metadata": {
    "collapsed": false
   }
  },
  {
   "cell_type": "markdown",
   "source": [
    "The function takes an the scatter matrix, which was computed in the previous step (by calling `compute_S` function), calculated the total variance ($S_w$) and returns the inverse of it"
   ],
   "metadata": {
    "collapsed": false
   }
  },
  {
   "cell_type": "code",
   "execution_count": 117,
   "outputs": [],
   "source": [
    "def compute_Sw_inv(s):\n",
    "    Sw = np.sum(s, axis=0)\n",
    "    Sw_inv = np.linalg.pinv(Sw)\n",
    "    return Sw_inv"
   ],
   "metadata": {
    "collapsed": false
   }
  },
  {
   "cell_type": "markdown",
   "source": [
    "## Fisher's Linear Discriminant\n",
    "\n",
    "The function takes the $S_w$ and means calculated in the previous steps and calculated the Fisher's Linear Discriminant for each group of images.\n",
    "\n",
    "$$w_i = Sw^{-1}m_i$$"
   ],
   "metadata": {
    "collapsed": false
   }
  },
  {
   "cell_type": "code",
   "execution_count": 118,
   "outputs": [],
   "source": [
    "def compute_fisher_linear_discriminant(Sw_inverse, mean):\n",
    "    w = np.zeros((10, 784))\n",
    "    for i in range(10):\n",
    "        w[i] = np.dot(Sw_inverse, mean[i])\n",
    "    return w"
   ],
   "metadata": {
    "collapsed": false
   }
  },
  {
   "cell_type": "markdown",
   "source": [
    "## Compute Bias ($w_0$)\n",
    "\n",
    "The function takes two arguments, the computed fisher linear discriminant and the mean.\n",
    "\n",
    "$$w_{0, i} = -\\frac{1}{2}w_i^T(m_i + m_{other})$$"
   ],
   "metadata": {
    "collapsed": false
   }
  },
  {
   "cell_type": "code",
   "execution_count": 119,
   "outputs": [],
   "source": [
    "def compute_w0(w, mean):\n",
    "    w0 = np.zeros(10)\n",
    "    for i in range(10):\n",
    "        w0[i] = -0.5 * np.dot(w[i].T, mean[i])\n",
    "    return w0"
   ],
   "metadata": {
    "collapsed": false
   }
  },
  {
   "cell_type": "markdown",
   "source": [
    "## Classify\n",
    "\n",
    "The function optionally takes in an additional argument w0 which is the bias for the prediction.\n",
    "\n",
    "$$Y(x)=w^Tx_i+w_0$$\n",
    "or\n",
    "$$Y_{i,j} = w_j^Tx_i + w_{0,j}$$"
   ],
   "metadata": {
    "collapsed": false
   }
  },
  {
   "cell_type": "code",
   "execution_count": 120,
   "outputs": [],
   "source": [
    "def classify_fisher_linear_discriminant(images, w, w0=None):\n",
    "    Y = np.zeros((len(images), 10))\n",
    "    predict = np.zeros((len(images)), dtype=int)\n",
    "\n",
    "    for i in range(len(images)):\n",
    "        for j in range(10):\n",
    "            if w0 is None:\n",
    "                Y[i][j] = np.dot(w[j], images[i])\n",
    "            else:\n",
    "                Y[i, j] = np.dot(w[j].T, images[i]) + w0[j]\n",
    "\n",
    "        predict[i] = np.argmax(Y[i])\n",
    "\n",
    "    return predict"
   ],
   "metadata": {
    "collapsed": false
   }
  },
  {
   "cell_type": "markdown",
   "source": [
    "## Accuracy\n",
    "\n",
    "A function that takes in two arguments: a list of predicted labels and a list of true labels. The function calculates the accuracy of the predictions by comparing the predicted labels to the true labels."
   ],
   "metadata": {
    "collapsed": false
   }
  },
  {
   "cell_type": "code",
   "execution_count": 121,
   "outputs": [],
   "source": [
    "def compute_accuracy(labels, test_labels):\n",
    "    correct = 0\n",
    "    for i in range(len(labels)):\n",
    "        if labels[i] == test_labels[i]:\n",
    "            correct += 1\n",
    "    return correct / len(labels)"
   ],
   "metadata": {
    "collapsed": false
   }
  },
  {
   "cell_type": "markdown",
   "source": [
    "## Confusion Matrix\n",
    "\n",
    "Generates, displays, and saves the confusion matrix. Takes 3 arguments: a list of predicted labels, a list of true labels, and a file name in which the generated matrix will be saved as."
   ],
   "metadata": {
    "collapsed": false
   }
  },
  {
   "cell_type": "code",
   "execution_count": 122,
   "outputs": [],
   "source": [
    "def compute_confusion_matrix(labels, test_labels, filename):\n",
    "    confusion_matrix = metrics.confusion_matrix(labels, test_labels)\n",
    "    cm_display = metrics.ConfusionMatrixDisplay(confusion_matrix=confusion_matrix)\n",
    "    cm_display.plot()\n",
    "    plt.savefig(filename)\n",
    "    plt.show()"
   ],
   "metadata": {
    "collapsed": false
   }
  },
  {
   "cell_type": "markdown",
   "source": [
    "# Testing"
   ],
   "metadata": {
    "collapsed": false
   }
  },
  {
   "cell_type": "markdown",
   "source": [
    "Read all the data"
   ],
   "metadata": {
    "collapsed": false
   }
  },
  {
   "cell_type": "code",
   "execution_count": 123,
   "outputs": [],
   "source": [
    "train_images = read_train_images()\n",
    "train_labels = read_train_labels()\n",
    "test_images = read_test_images()\n",
    "test_labels = read_test_labels()"
   ],
   "metadata": {
    "collapsed": false
   }
  },
  {
   "cell_type": "markdown",
   "source": [
    "Calculate means and $S_w$"
   ],
   "metadata": {
    "collapsed": false
   }
  },
  {
   "cell_type": "code",
   "execution_count": null,
   "outputs": [],
   "source": [
    "means = compute_mean(train_images, train_labels)\n",
    "S = compute_S(train_images, train_labels, means)\n",
    "Sw_inv = compute_Sw_inv(S)"
   ],
   "metadata": {
    "collapsed": false,
    "pycharm": {
     "is_executing": true
    }
   }
  },
  {
   "cell_type": "markdown",
   "source": [
    "Calculate Fisher's Linear Discriminant and Bias"
   ],
   "metadata": {
    "collapsed": false
   }
  },
  {
   "cell_type": "code",
   "execution_count": null,
   "outputs": [],
   "source": [
    "w = compute_fisher_linear_discriminant(Sw_inv, means)\n",
    "w0 = compute_w0(w, means)"
   ],
   "metadata": {
    "collapsed": false,
    "pycharm": {
     "is_executing": true
    }
   }
  },
  {
   "cell_type": "markdown",
   "source": [
    "Predict values"
   ],
   "metadata": {
    "collapsed": false
   }
  },
  {
   "cell_type": "code",
   "execution_count": null,
   "outputs": [],
   "source": [
    "prediction = classify_fisher_linear_discriminant(test_images, w)\n",
    "prediction_bias = classify_fisher_linear_discriminant(test_images, w, w0)"
   ],
   "metadata": {
    "collapsed": false,
    "pycharm": {
     "is_executing": true
    }
   }
  },
  {
   "cell_type": "markdown",
   "source": [
    "Test accuracy"
   ],
   "metadata": {
    "collapsed": false
   }
  },
  {
   "cell_type": "code",
   "execution_count": null,
   "outputs": [],
   "source": [
    "accuracy = compute_accuracy(prediction, test_labels)\n",
    "accuracy_bias = compute_accuracy(prediction_bias, test_labels)\n",
    "\n",
    "print('Accuracy without bias: ', accuracy)\n",
    "print('Accuracy with bias: ', accuracy_bias)"
   ],
   "metadata": {
    "collapsed": false,
    "pycharm": {
     "is_executing": true
    }
   }
  },
  {
   "cell_type": "markdown",
   "source": [
    "Generate confusion matrix"
   ],
   "metadata": {
    "collapsed": false
   }
  },
  {
   "cell_type": "code",
   "execution_count": null,
   "outputs": [],
   "source": [
    "compute_confusion_matrix(prediction, test_labels, 'Confusion Matrix without bias')\n",
    "compute_confusion_matrix(prediction_bias, test_labels, 'Confusion Matrix with bias')"
   ],
   "metadata": {
    "collapsed": false,
    "pycharm": {
     "is_executing": true
    }
   }
  },
  {
   "cell_type": "markdown",
   "source": [],
   "metadata": {
    "collapsed": false
   }
  }
 ],
 "metadata": {
  "kernelspec": {
   "display_name": "Python 3",
   "language": "python",
   "name": "python3"
  },
  "language_info": {
   "codemirror_mode": {
    "name": "ipython",
    "version": 2
   },
   "file_extension": ".py",
   "mimetype": "text/x-python",
   "name": "python",
   "nbconvert_exporter": "python",
   "pygments_lexer": "ipython2",
   "version": "2.7.6"
  }
 },
 "nbformat": 4,
 "nbformat_minor": 0
}
